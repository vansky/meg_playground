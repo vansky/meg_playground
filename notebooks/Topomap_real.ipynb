{
 "metadata": {
  "name": ""
 },
 "nbformat": 3,
 "nbformat_minor": 0,
 "worksheets": [
  {
   "cells": [
    {
     "cell_type": "markdown",
     "metadata": {},
     "source": [
      "Imports\n",
      "======="
     ]
    },
    {
     "cell_type": "code",
     "collapsed": false,
     "input": [
      "#disable autosave functionality;\n",
      "#This script is taxing enough, and autosaving tends to push it over the edge\n",
      "# plus, autosaving seems to zero out the file before restoring it from the backup\n",
      "# this means an autosave causing a crash will actually delete the file rather than saving it!!!\n",
      "%autosave 0"
     ],
     "language": "python",
     "metadata": {},
     "outputs": []
    },
    {
     "cell_type": "code",
     "collapsed": false,
     "input": [
      "#basic imports\n",
      "\n",
      "%pylab inline\n",
      "import time\n",
      "import pickle\n",
      "import cPickle\n",
      "import logging as L\n",
      "L.basicConfig(level=L.ERROR) # INFO)\n",
      "import time\n",
      "import numpy\n",
      "#import #pylab\n",
      "import scipy.stats\n",
      "import os\n",
      "import pylab\n",
      "import sklearn\n",
      "import scipy\n",
      "import sklearn.linear_model\n",
      "import re\n",
      "\n",
      "pylab.rcParams['figure.figsize'] = 15,15 #change the default image size for this session\n",
      "pylab.ion()"
     ],
     "language": "python",
     "metadata": {},
     "outputs": []
    },
    {
     "cell_type": "code",
     "collapsed": false,
     "input": [
      "import mne"
     ],
     "language": "python",
     "metadata": {},
     "outputs": []
    },
    {
     "cell_type": "code",
     "collapsed": false,
     "input": [
      "#custom imports\n",
      "%cd ../scripts\n",
      "\n",
      "# brian's prototype routines\n",
      "from protoMEEGutils import *\n",
      "import protoSpectralWinFFTMapper as specfft"
     ],
     "language": "python",
     "metadata": {},
     "outputs": []
    },
    {
     "cell_type": "markdown",
     "metadata": {},
     "source": [
      "Definitions\n",
      "==========="
     ]
    },
    {
     "cell_type": "code",
     "collapsed": false,
     "input": [
      "# OUTLINE, 19th Nov 2014\n",
      "#\n",
      "# script for initial \"signs of life\" analysis of single MEG\n",
      "#\n",
      "# load in a meg file in EEGlab format\n",
      "# load in the word properties\n",
      "# choose a \"languagey\" channel (left-temporal, clean, with expected ERF patterns) \n",
      "# plot some ERFs (e.g. all nouns vs all preps) as sanity check\n",
      "# do the earlier analysis of R^2 and betas due to lexical access vars, up to X words back \n",
      "# hand over to Marten, so he can do the analysis based on syntactic embedding...\n",
      "\n",
      "\n",
      "#### SUBROUTINES ####\n",
      "\n",
      "# plot the time-scale for ERFs and other epoch figures \n",
      "def commonPlotProps():\n",
      "        #zeroSample = (abs(epochStart)/float(epochLength)*epochNumTimepoints)\n",
      "        #pylab.plot((0,epochNumTimepoints),(0,0),'k--')\n",
      "        #pylab.ylim((-2.5e-13,2.5e-13)) #((-5e-14,5e-14)) # better way just to get the ones it choose itself?\n",
      "        #pylab.plot((zeroSample,zeroSample),(0,0.01),'k--')\n",
      "        pylab.xticks(numpy.linspace(0,epochNumTimepoints,7),epochStart+(numpy.linspace(0,epochNumTimepoints,7)/samplingRate))\n",
      "        pylab.xlabel('time (s) relative to auditory onset') #+refEvent)\n",
      "        pylab.xlim((62,313))\n",
      "        pylab.show()\n",
      "        pylab.axhline(0, color='k', linestyle='--')\n",
      "        pylab.axvline(125, color='k', linestyle='--')\n",
      "        \n",
      "# adjust R2 down for the artificial inflation you get by increasing the number of explanatory features\n",
      "def adjustR2(R2, numFeatures, numSamples):\n",
      "        #1/0\n",
      "        #return R2\n",
      "        return R2-(1-R2)*(float(numFeatures)/(numSamples-numFeatures-1))\n",
      "\n",
      "# normalise (z-scale) the scale of variables (for the explanatory ones, so the magnitude of beta values are comparably interpretable)\n",
      "def mynormalise(A):\n",
      "        A = scipy.stats.zscore(A)\n",
      "        A[numpy.isnan(A)] = 0\n",
      "        return A"
     ],
     "language": "python",
     "metadata": {},
     "outputs": []
    },
    {
     "cell_type": "markdown",
     "metadata": {},
     "source": [
      "Preprocessing\n",
      "============="
     ]
    },
    {
     "cell_type": "markdown",
     "metadata": {},
     "source": [
      "Input Params\n",
      "----------"
     ]
    },
    {
     "cell_type": "code",
     "collapsed": false,
     "input": [
      "#change to the data directory to load in the data\n",
      "%cd ../MEG_data\n",
      "\n",
      "#*# MARTY #*# choose a file - I found participant V to be pretty good, and 0.01 to 50Hz filter is pretty conservative #*#\n",
      "(megFileTag1, megFile1) = ('V_TSSS_0.01-50Hz_@125', 'v_hod_allRuns_tsss_audiobookPrepro_stPad1_lp50_resamp125_frac10ICAed.set')#_hp0.010000.set')\n",
      "(megFileTag2, megFile2) = ('A_TSSS_0.01-50Hz_@125', 'aud_hofd_a_allRuns_tsss_audiobookPrepro_stPad1_lp50_resamp125_frac10ICAed_hp0.010000.set')\n",
      "(megFileTag3, megFile3) = ('C_TSSS_0.01-50Hz_@125', 'aud_hofd_c_allRuns_tsss_audiobookPrepro_stPad1_lp50_resamp125_frac10ICAed_hp0.010000.set')\n",
      "\n",
      "## put your on properties in here, as a .tab file of similar format (tab delimited, and field names in a first comment line - should be easy to do in excel...)\n",
      "#to get the V5.tab:\n",
      "#  python ../scripts/buildtab.py hod_JoeTimes_LoadsaFeaturesV3.tab hod.wsj02to21-comparativized-gcg15-1671-4sm.fullberk.parsed.gcgbadwords > hod_JoeTimes_LoadsaFeaturesV4.tab\n",
      "#  python ../scripts/addsentid.py hod_JoeTimes_LoadsaFeaturesV4.tab > hod_JoeTimes_LoadsaFeaturesV5.tab\n",
      "tokenPropsFile = 'hod_JoeTimes_LoadsaFeaturesV5.tab' # best yet! have automatic Stanford tagging, several word length and freq measures, and also the 2 and 3 token back-grams\n",
      "\n",
      "# WHICH CHANNELS TO LOOK AT AS ERFS\n",
      "#*# MARTY #*# decide which channels to use - channels of interest are the first few you can look at in an ERF, and then from them you can choose one at a time with \"channelToAnalyse\" for the actual regression analysis #*#\n",
      "channelLabels = ['MEG0111', 'MEG0121', 'MEG0131', 'MEG0211', 'MEG0212', 'MEG0213', 'MEG0341']\n",
      "#?# this way of doing things was a slightly clumsy work-around, cos I didn't have enough memory to epoch all 306 channels at one time\n",
      "\n",
      "# LOAD WORD PROPS\n",
      "#*# MARTY #*# change dtype to suit the files in your .tab file #*#\n",
      "tokenProps = scipy.genfromtxt(tokenPropsFile,\n",
      "                              delimiter='\\t',names=True,\n",
      "                              dtype=\"i4,f4,f4,S50,S50,i2,i2,i2,S10,f4,f4,f4,f4,f4,f4,f4,f4,f4,f4,f4,i1,>i4\")\n",
      "# ... and temporarily save as cpickle archive to satisfy the way I programmed the convenience function loadBookMEGWithAudio (it expects to find the same info in a C-pickle file, and so doesn't need to know about number and type of fields)\n",
      "tokenPropsPickle = tokenPropsFile+'.cpk'\n",
      "cPickle.dump(tokenProps, open(tokenPropsPickle, 'wb'))"
     ],
     "language": "python",
     "metadata": {},
     "outputs": []
    },
    {
     "cell_type": "markdown",
     "metadata": {},
     "source": [
      "Trial Params\n",
      "------------"
     ]
    },
    {
     "cell_type": "code",
     "collapsed": false,
     "input": [
      "triggersOfInterest=['s%d' % i for i in range(1,10)]\n",
      "refEvent = 'onTime' #,'offTime']\n",
      "#*# MARTY #*# guess an epoch of -0.5 to +1s should be enough #*#\n",
      "epochStart = -1; # stimulus ref event\n",
      "epochEnd = +2; # \n",
      "epochLength = epochEnd-epochStart;\n",
      "baseline = False #[-1,0]"
     ],
     "language": "python",
     "metadata": {},
     "outputs": []
    },
    {
     "cell_type": "markdown",
     "metadata": {},
     "source": [
      "Epoch Data\n",
      "----------"
     ]
    },
    {
     "cell_type": "code",
     "collapsed": false,
     "input": [
      "# Get the goods on subject 1\n",
      "(contSignalData, metadata, trackTrials, tokenProps, audioSignal, samplingRate, numChannels) = loadBookMEGWithAudio(megFile1, tokenPropsPickle, triggersOfInterest, epochEnd, epochStart, icaComps=False)\n",
      "del contSignalData\n",
      "del trackTrials"
     ],
     "language": "python",
     "metadata": {},
     "outputs": []
    },
    {
     "cell_type": "code",
     "collapsed": false,
     "input": [
      "print(metadata.chanlocs[0]._fieldnames)"
     ],
     "language": "python",
     "metadata": {},
     "outputs": []
    },
    {
     "cell_type": "code",
     "collapsed": false,
     "input": [
      "#Get blank sensor map\n",
      "%cd ../MEG_data/\n",
      "resultType = 'wide'\n",
      "resultsFile = 'fitresults.%s.cpk' % (resultType)\n",
      "\n",
      "rsq = cPickle.load(open(resultsFile))\n",
      "\n",
      "# EXTRACT SENSOR LOCATIONS FROM METADATA                                                                                                                       \n",
      "sensorLocations = {}\n",
      "# don't have the data at hand, but here it would be good to first extract the X/Y co-ordinates of all                                                          \n",
      "for sensor in metadata.chanlocs:\n",
      "    # not sure if the structure is like this - will have to check in metadata returned by the python script\n",
      "    sensorLocations[sensor.labels] = (sensor.X, sensor.Y)    \n",
      "\n",
      "# DO A TOPOPLOT FOR EACH BAND AND STAT (three beside eachother, one for each type of sensor)                                                                   \n",
      "for stat in ['ave']:#, 'max']:\n",
      "    for band in ['alpha']: # add more bands if you want                                                                                           \n",
      "        #sensorPositions = [] # in horizontal plane, looking downwards                                                                                  \n",
      "        #sensorValues = [] # r^2 or whatever other value we want to do map of                                                                           \n",
      "\n",
      "        pylab.figure()\n",
      "        for sensorType in ['3']:\n",
      "            sensorPositions = [] # in horizontal plane, looking downwards                                                                                  \n",
      "            sensorValues = [] # r^2 or whatever other value we want to do map of\n",
      "            # sensors that end in 1 are magnetometers, those ending in 2 or 3 are gradiometers of different orientations                                                                                                                                                              \n",
      "            for sensorLabel in rsq[stat].keys(): # 'ave' or 'max'? not sure\n",
      "                if sensorLabel.endswith(sensorType):\n",
      "                    sensorValues = numpy.append(sensorValues,rsq[stat][sensorLabel][band]) # e.g. rsq['ave']['MEG2643']['alpha']                                \n",
      "                    sensorPositions = numpy.append(sensorPositions,sensorLocations[sensorLabel]) # this is already an X-Y tuple\n",
      "                sensorValues = numpy.array(sensorValues)\n",
      "                sensorPositions = numpy.array(sensorPositions)\n",
      "            #subplotCounter += 1\n",
      "            #pylab.subplot(1,3,subplotCounter)\n",
      "            #print(sensorValues.shape, sensorPositions.reshape(-1,2).shape)\n",
      "            im, cn = mne.viz.plot_topomap(sensorValues, sensorPositions.reshape(-1,2),\n",
      "                                          names=rsq[stat].keys(),show_names=True)\n",
      "            #im, cn = mne.viz.plot_topomap(sensorValues, sensorPositions.reshape(-1,2))\n",
      "            pylab.colorbar(im,fraction=0.046, pad=0.04)\n",
      "            pylab.title('Sensor map')\n",
      "            #pylab.legend(loc='upper right')\n",
      "        pylab.savefig('graphics/large-ant-meg_%s-%s_%s.png' % (resultType,stat,band))\n",
      "        pylab.show()"
     ],
     "language": "python",
     "metadata": {},
     "outputs": []
    },
    {
     "cell_type": "code",
     "collapsed": false,
     "input": [
      "%cd ../MEG_data/\n",
      "resultType = 'narrow'\n",
      "resultsFile = 'fitresults.%s.cpk' % (resultType)\n",
      "\n",
      "rsq = cPickle.load(open(resultsFile))\n",
      "\n",
      "# EXTRACT SENSOR LOCATIONS FROM METADATA                                                                                                                       \n",
      "sensorLocations = {}\n",
      "# don't have the data at hand, but here it would be good to first extract the X/Y co-ordinates of all                                                          \n",
      "for sensor in metadata.chanlocs:\n",
      "    # not sure if the structure is like this - will have to check in metadata returned by the python script\n",
      "    sensorLocations[sensor.labels] = (sensor.X, sensor.Y)    \n",
      "\n",
      "# DO A TOPOPLOT FOR EACH BAND AND STAT (three beside eachother, one for each type of sensor)                                                                   \n",
      "for stat in ['ave']:#, 'max']:\n",
      "    for band in ['theta','alpha','beta1','beta2','gamma',]: # add more bands if you want                                                                                           \n",
      "        #sensorPositions = [] # in horizontal plane, looking downwards                                                                                  \n",
      "        #sensorValues = [] # r^2 or whatever other value we want to do map of                                                                           \n",
      "\n",
      "        pylab.figure()\n",
      "        subplotCounter = 0\n",
      "        for sensorType in ['1', '2', '3']: \n",
      "            sensorPositions = [] # in horizontal plane, looking downwards                                                                                  \n",
      "            sensorValues = [] # r^2 or whatever other value we want to do map of\n",
      "            # sensors that end in 1 are magnetometers, those ending in 2 or 3 are gradiometers of different orientations                                                                                                                                                              \n",
      "            for sensorLabel in rsq[stat].keys(): # 'ave' or 'max'? not sure\n",
      "                if sensorLabel.endswith(sensorType):\n",
      "                    sensorValues = numpy.append(sensorValues,rsq[stat][sensorLabel][band]) # e.g. rsq['ave']['MEG2643']['alpha']                                \n",
      "                    sensorPositions = numpy.append(sensorPositions,sensorLocations[sensorLabel]) # this is already an X-Y tuple\n",
      "                sensorValues = numpy.array(sensorValues)\n",
      "                sensorPositions = numpy.array(sensorPositions)\n",
      "            subplotCounter += 1\n",
      "            pylab.subplot(1,3,subplotCounter)\n",
      "            #print(sensorValues.shape, sensorPositions.reshape(-1,2).shape)\n",
      "            #mne.viz.plot_topomap(sensorValues, sensorPositions.reshape(-1,2),names=rsq[stat].keys(),show_names=True)\n",
      "            im, cn = mne.viz.plot_topomap(sensorValues, sensorPositions.reshape(-1,2))\n",
      "            pylab.colorbar(im,fraction=0.046, pad=0.04)\n",
      "            if sensorType == '2':\n",
      "                pylab.title(stat+' '+band+' band power R^2 with embedding depth from '+resultsFile)\n",
      "            #pylab.legend(loc='upper right')\n",
      "        pylab.savefig('graphics/meg_%s-%s_%s.png' % (resultType,stat,band))\n",
      "        pylab.show()"
     ],
     "language": "python",
     "metadata": {},
     "outputs": []
    },
    {
     "cell_type": "code",
     "collapsed": false,
     "input": [
      "%cd ../MEG_data/\n",
      "\n",
      "resultType = 'wide'\n",
      "resultsFile = 'fitresults.%s.cpk' % (resultType)\n",
      "\n",
      "rsq = cPickle.load(open(resultsFile))\n",
      "\n",
      "# EXTRACT SENSOR LOCATIONS FROM METADATA                                                                                                                       \n",
      "sensorLocations = {}\n",
      "# don't have the data at hand, but here it would be good to first extract the X/Y co-ordinates of all                                                          \n",
      "for sensor in metadata.chanlocs:\n",
      "    # not sure if the structure is like this - will have to check in metadata returned by the python script\n",
      "    sensorLocations[sensor.labels] = (sensor.X, sensor.Y)    \n",
      "    \n",
      "# DO A TOPOPLOT FOR EACH BAND AND STAT (three beside eachother, one for each type of sensor)                                                                   \n",
      "for stat in ['ave']:#, 'max']:\n",
      "    for band in ['theta','alpha','beta1','beta2','gamma',]: # add more bands if you want                                                                                           \n",
      "        #sensorPositions = [] # in horizontal plane, looking downwards                                                                                  \n",
      "        #sensorValues = [] # r^2 or whatever other value we want to do map of                                                                           \n",
      "\n",
      "        pylab.figure()\n",
      "        subplotCounter = 0\n",
      "        #for sensorType in ['1', '2', '3']:\n",
      "        for sensorType in ['2', '3']: \n",
      "            # sensors that end in 1 are magnetometers, those ending in 2 or 3 are gradiometers of different orientations\n",
      "            sensorPositions = [] # in horizontal plane, looking downwards                                                                                  \n",
      "            sensorValues = [] # r^2 or whatever other value we want to do map of\n",
      "                                                                                                                                                              \n",
      "            for sensorLabel in rsq[stat].keys(): # 'ave' or 'max'? not sure\n",
      "                if sensorLabel.endswith(sensorType):\n",
      "                    sensorValues = numpy.append(sensorValues,rsq[stat][sensorLabel][band]) # e.g. rsq['ave']['MEG2643']['alpha']                                \n",
      "                    sensorPositions = numpy.append(sensorPositions,sensorLocations[sensorLabel]) # this is already an X-Y tuple\n",
      "                sensorValues = numpy.array(sensorValues)\n",
      "                sensorPositions = numpy.array(sensorPositions)\n",
      "            subplotCounter += 1\n",
      "            pylab.subplot(1,2,subplotCounter)\n",
      "            #print(sensorValues.shape, sensorPositions.reshape(-1,2).shape)\n",
      "            #im, cn = mne.viz.plot_topomap(sensorValues, sensorPositions.reshape(-1,2))\n",
      "            im, cn = mne.viz.plot_topomap(sensorValues, sensorPositions.reshape(-1,2),names=rsq[stat].keys(),show_names=True)\n",
      "            pylab.colorbar(im,fraction=0.046, pad=0.04)\n",
      "            if sensorType == '2':\n",
      "                pylab.title(stat+' '+band+' band power R^2 with embedding depth from '+resultsFile)\n",
      "        pylab.savefig('graphics/meg_%s-%s_%s.png' % (resultType,stat,band))\n",
      "        pylab.show()"
     ],
     "language": "python",
     "metadata": {},
     "outputs": []
    },
    {
     "cell_type": "code",
     "collapsed": false,
     "input": [],
     "language": "python",
     "metadata": {},
     "outputs": []
    }
   ],
   "metadata": {}
  }
 ]
}