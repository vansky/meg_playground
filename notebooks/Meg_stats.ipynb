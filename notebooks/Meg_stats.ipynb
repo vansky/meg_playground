{
 "metadata": {
  "name": ""
 },
 "nbformat": 3,
 "nbformat_minor": 0,
 "worksheets": [
  {
   "cells": [
    {
     "cell_type": "code",
     "collapsed": false,
     "input": [
      "import cPickle\n",
      "import pandas"
     ],
     "language": "python",
     "metadata": {},
     "outputs": []
    },
    {
     "cell_type": "code",
     "collapsed": false,
     "input": [
      "%cd ../stats\n",
      "#resultsFile = 'signifresults.multifactor.cpk'\n",
      "resultsFile = 'signifresults.cpk'\n",
      "\n",
      "rsq = cPickle.load(open(resultsFile))"
     ],
     "language": "python",
     "metadata": {},
     "outputs": []
    },
    {
     "cell_type": "code",
     "collapsed": false,
     "input": [
      "#rsq['p', 'r2'][chanlabel]['theta', 'beta2', 'beta1', 'alpha']\n",
      "print rsq.keys()\n",
      "\n",
      "print type(rsq['r2']['MEG1211']['theta'])\n",
      "\n",
      "print rsq['p']['MEG1211']['theta']"
     ],
     "language": "python",
     "metadata": {},
     "outputs": []
    },
    {
     "cell_type": "code",
     "collapsed": false,
     "input": [
      "#for band in ['alpha','theta']:\n",
      "#  print 'Significance in', band\n",
      "  #for sensor in ['0113','0123','0112','0122','1542','1532','1543','1533']:\n",
      "#    print 'MEG'+sensor, 'p =',rsq['p']['MEG'+sensor][band]['syndepth']"
     ],
     "language": "python",
     "metadata": {},
     "outputs": []
    },
    {
     "cell_type": "code",
     "collapsed": false,
     "input": [
      "%cd ../stats\n",
      "resultsFile = 'signifresults.multifactor.dev.bigscale.cpk'\n",
      "\n",
      "rsq = cPickle.load(open(resultsFile))\n",
      "\n",
      "for band in ['alpha']:\n",
      "  print 'Significance in', band\n",
      "  #for sensor in ['0113','0123','0112','0122','1542','1532','1543','1533']:\n",
      "  for sensor in ['0313','0113','0143','1543','1533','1713']:\n",
      "    print 'MEG'+sensor,'\\t', rsq['r2']['MEG'+sensor]['alpha']\n",
      "    for i in rsq['p']['MEG'+sensor]['alpha'].index:\n",
      "        if i != 'Intercept':\n",
      "            if i != 'bigramLogProbBack_COCA':\n",
      "                print i, '\\t\\t',rsq['p']['MEG'+sensor]['alpha'][i]\n",
      "            else:\n",
      "                print i, '\\t',rsq['p']['MEG'+sensor]['alpha'][i]\n",
      "        #print rsq['p']['MEG'+sensor][band]#['syndepth']"
     ],
     "language": "python",
     "metadata": {},
     "outputs": []
    },
    {
     "cell_type": "code",
     "collapsed": false,
     "input": [],
     "language": "python",
     "metadata": {},
     "outputs": []
    }
   ],
   "metadata": {}
  }
 ]
}