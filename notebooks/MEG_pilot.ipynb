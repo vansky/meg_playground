{
 "metadata": {
  "name": ""
 },
 "nbformat": 3,
 "nbformat_minor": 0,
 "worksheets": [
  {
   "cells": [
    {
     "cell_type": "markdown",
     "metadata": {},
     "source": [
      "MEG Pilot\n",
      "=========\n",
      "\n",
      "The project should be in a directory with the following subdirectories:  \n",
      "\n",
      "-scripts/: importable scripts  \n",
      "-MEG_data/: MEG data and epoch alignment files  \n",
      "-notebooks/: This file and other associated ipython notebooks"
     ]
    },
    {
     "cell_type": "markdown",
     "metadata": {},
     "source": [
      "Imports\n",
      "--------"
     ]
    },
    {
     "cell_type": "code",
     "collapsed": false,
     "input": [
      "#Permit inline plotting\n",
      "%pylab inline\n",
      "\n",
      "#Do basic imports\n",
      "from __future__ import division\n",
      "import sys, os\n",
      "import scipy\n",
      "import pylab as pl\n",
      "import numpy as np\n",
      "import numpy.lib.recfunctions as recfunctions\n",
      "#from ptsa.data.bvwrapper import BVWrapper\n",
      "#from ptsa.plotting.topo import topoplot\n",
      "\n",
      "#change to the scripts directory to permit importing from there\n",
      "%cd ../scripts\n",
      "import protoReadExtractEEGlab"
     ],
     "language": "python",
     "metadata": {},
     "outputs": [
      {
       "output_type": "stream",
       "stream": "stdout",
       "text": [
        "Populating the interactive namespace from numpy and matplotlib\n",
        "/media/webley/Stacked Data/Documents/Work/meg_playground/scripts\n"
       ]
      }
     ],
     "prompt_number": 4
    },
    {
     "cell_type": "markdown",
     "metadata": {},
     "source": [
      "Definitions\n",
      "-----------"
     ]
    },
    {
     "cell_type": "code",
     "collapsed": false,
     "input": [
      "# Definitions\n",
      "def adjustR2(R2, numFeatures, numSamples):\n",
      "        #1/0                                                               \n",
      "        #return R2                                                         \n",
      "        return R2-(1-R2)*(float(numFeatures)/(numSamples-numFeatures-1))\n",
      "\n",
      "def mynormalise(A):\n",
      "        A = scipy.stats.zscore(A)\n",
      "        A[numpy.isnan(A)] = 0\n",
      "        return A"
     ],
     "language": "python",
     "metadata": {},
     "outputs": [],
     "prompt_number": 5
    },
    {
     "cell_type": "markdown",
     "metadata": {},
     "source": [
      "Load Data\n",
      "---------"
     ]
    },
    {
     "cell_type": "code",
     "collapsed": false,
     "input": [
      "#change to the data directory to load in the data\n",
      "%cd ../MEG_data\n",
      "\n",
      "#load MEG data\n",
      "(rawSignalData, metadata, trials, epochedSignalData, epochSliceTimepoints) = \\\n",
      "    protoReadExtractEEGlab.load('aud_hofd_a_allRuns_tsss_audiobookPrepro_stPad1_lp50_resamp125_frac10ICAed.set',[])"
     ],
     "language": "python",
     "metadata": {},
     "outputs": [
      {
       "output_type": "stream",
       "stream": "stdout",
       "text": [
        "/media/webley/Stacked Data/Documents/Work/meg_playground/MEG_data\n"
       ]
      }
     ],
     "prompt_number": 8
    },
    {
     "cell_type": "code",
     "collapsed": false,
     "input": [
      "#load alignment data\n",
      "wordPropsFile = 'hod_JoeTimes_LoadsaFeaturesV3.tab'                   \n",
      "wordProps = scipy.genfromtxt(wordPropsFile,delimiter='\\t',names=True,\\\n",
      "                             dtype=\"i4,f4,f4,S50,S50,i2,i2,i2,S10,f4,f4,f4,f4,f4,f4,f4,f4,f4,f4,f4\")\n",
      "print(wordProps.shape)"
     ],
     "language": "python",
     "metadata": {},
     "outputs": [
      {
       "output_type": "stream",
       "stream": "stdout",
       "text": [
        "(14595,)\n"
       ]
      }
     ],
     "prompt_number": 9
    },
    {
     "cell_type": "markdown",
     "metadata": {},
     "source": [
      "Play\n",
      "-------"
     ]
    },
    {
     "cell_type": "markdown",
     "metadata": {},
     "source": [
      "At this point, the following data structures are active:  \n",
      "\n",
      "    wordProps: ndarray of word-level properties\n",
      "    rawSignalData: ndarray w/ one row per channel and one column per timeslice\n",
      "    metadata: matlab.iostruct: use metadata._fieldnames to find colnames\n",
      "    trials:  empty\n",
      "    epochedSignalData:  empty\n",
      "    epochedSliceTimepoints:  empty"
     ]
    },
    {
     "cell_type": "markdown",
     "metadata": {},
     "source": [
      "wordProps exploration"
     ]
    },
    {
     "cell_type": "code",
     "collapsed": false,
     "input": [
      "print(wordProps.dtype.names)"
     ],
     "language": "python",
     "metadata": {},
     "outputs": [
      {
       "output_type": "stream",
       "stream": "stdout",
       "text": [
        "('track', 'onTime', 'offTime', 'asrToken', 'annotToken', 'sentenceSerial', 'runSerial', 'storySerial', 'stanfPOS', 'lenLett', 'lenPhonCMU', 'lenSyllCMU', 'logFreq_ANC', 'bigramLogProbBack_COCA', 'trigramLogProbBack_COCA', 'surprisal2back_COCA', 'tokenPrimed', 'tokenPosPrimed', 'bigramEntropy_COCA_previous', 'bigramEntropy_COCA_here')\n"
       ]
      }
     ],
     "prompt_number": 10
    },
    {
     "cell_type": "code",
     "collapsed": false,
     "input": [
      "print(wordProps['onTime'])\n",
      "print(mean(wordProps['onTime']))\n",
      "print(wordProps['track'])\n",
      "print(len(wordProps[wordProps['track']==5]))"
     ],
     "language": "python",
     "metadata": {},
     "outputs": [
      {
       "output_type": "stream",
       "stream": "stdout",
       "text": [
        "[  3.40000018e-02   1.05400002e+00   1.32400000e+00 ...,   6.76174011e+02\n",
        "   6.76283997e+02   6.76963989e+02]\n",
        "299.449\n",
        "[1 1 1 ..., 8 8 8]\n",
        "1781\n"
       ]
      }
     ],
     "prompt_number": 11
    },
    {
     "cell_type": "code",
     "collapsed": false,
     "input": [
      "#Alignment option 1: adding a modifier to the onset and offset times\n",
      "#  to get them in the same domain as the raw data\n",
      "\n",
      "prevt = 0.0\n",
      "timemod = 0\n",
      "\n",
      "newWordProps = np.copy(wordProps)\n",
      "\n",
      "for ti,t in enumerate(wordProps['onTime']):\n",
      "    if t < prevt:\n",
      "        #assume the final sample of a session doesn't occur after the final wordProps row\n",
      "        timemod += wordProps['offTime'][ti-1]  \n",
      "    newWordProps['onTime'][ti] += timemod\n",
      "    newWordProps['offTime'][ti] += timemod\n",
      "    prevt = t"
     ],
     "language": "python",
     "metadata": {},
     "outputs": [],
     "prompt_number": 12
    },
    {
     "cell_type": "code",
     "collapsed": false,
     "input": [
      "print(newWordProps['onTime'])\n",
      "print(mean(newWordProps['onTime']))\n",
      "print(newWordProps['track'])\n",
      "print(len(newWordProps[newWordProps['track']==5]))\n",
      "\n",
      "prevt = 1\n",
      "for ti,t in enumerate(wordProps['track']):\n",
      "    if t != prevt:\n",
      "        #boundary zone differences... they aren't flush because the first word of each session has some lead-in\n",
      "        #but it's important to also note that they don't line up with the metadata.event.latency list below...\n",
      "        print newWordProps['offTime'][ti-1], newWordProps['onTime'][ti]\n",
      "    prevt = t"
     ],
     "language": "python",
     "metadata": {},
     "outputs": [
      {
       "output_type": "stream",
       "stream": "stdout",
       "text": [
        "[  3.40000018e-02   1.05400002e+00   1.32400000e+00 ...,   6.89766406e+03\n",
        "   6.89777393e+03   6.89845361e+03]\n",
        "3736.34\n",
        "[1 1 1 ..., 8 8 8]\n",
        "1781\n",
        "445.404 445.438\n",
        "2687.61 2687.65\n",
        "3251.72 3251.75\n",
        "3777.42 3777.45\n",
        "4433.91 4433.94\n",
        "5322.31 5322.34\n",
        "6221.49 6221.52\n"
       ]
      }
     ],
     "prompt_number": 13
    },
    {
     "cell_type": "markdown",
     "metadata": {},
     "source": [
      "metadata exploration"
     ]
    },
    {
     "cell_type": "code",
     "collapsed": false,
     "input": [
      "print(metadata._fieldnames)"
     ],
     "language": "python",
     "metadata": {},
     "outputs": [
      {
       "output_type": "stream",
       "stream": "stdout",
       "text": [
        "['setname', 'filename', 'filepath', 'subject', 'group', 'condition', 'session', 'comments', 'nbchan', 'trials', 'pnts', 'srate', 'xmin', 'xmax', 'times', 'data', 'icaact', 'icawinv', 'icasphere', 'icaweights', 'icachansind', 'chanlocs', 'urchanlocs', 'chaninfo', 'ref', 'event', 'urevent', 'eventdescription', 'epoch', 'epochdescription', 'reject', 'stats', 'specdata', 'specicaact', 'splinefile', 'icasplinefile', 'dipfit', 'history', 'saved', 'etc', 'datfile']\n"
       ]
      }
     ],
     "prompt_number": 14
    },
    {
     "cell_type": "code",
     "collapsed": false,
     "input": [
      "print(metadata.chanlocs[0]._fieldnames)\n",
      "print(metadata.chanlocs[0].labels)\n",
      "print(rawSignalData.shape[1])"
     ],
     "language": "python",
     "metadata": {},
     "outputs": [
      {
       "output_type": "stream",
       "stream": "stdout",
       "text": [
        "['labels', 'ref', 'theta', 'radius', 'X', 'Y', 'Z', 'sph_theta', 'sph_phi', 'sph_radius', 'type', 'urchan']\n",
        "MEG0113\n",
        "588038\n"
       ]
      }
     ],
     "prompt_number": 15
    },
    {
     "cell_type": "code",
     "collapsed": false,
     "input": [
      "print(metadata.pnts)\n",
      "print(metadata.srate)\n",
      "print(metadata.times/1000)\n",
      "print(mean(metadata.times)/1000)"
     ],
     "language": "python",
     "metadata": {},
     "outputs": [
      {
       "output_type": "stream",
       "stream": "stdout",
       "text": [
        "588038\n",
        "125\n",
        "[ -0.00000000e+00   8.00000000e-03   1.60000000e-02 ...,   4.70428000e+03\n",
        "   4.70428800e+03   4.70429600e+03]\n",
        "2352.148\n"
       ]
      }
     ],
     "prompt_number": 16
    },
    {
     "cell_type": "code",
     "collapsed": false,
     "input": [
      "for event in metadata.event:\n",
      "    print(event.type, event.latency)"
     ],
     "language": "python",
     "metadata": {},
     "outputs": [
      {
       "output_type": "stream",
       "stream": "stdout",
       "text": [
        "(u'boundary', 0.5)\n",
        "(u's1', 125.99999999999977)\n",
        "(u'e1', 55865)\n",
        "(u'boundary', 55990.5)\n",
        "(u's2', 56115.99999999999)\n",
        "(u'e2', 150082.875)\n",
        "(u'boundary', 150208.5)\n",
        "(u's3', 150333.99999999997)\n",
        "(u'e3', 220933.87499999997)\n",
        "(u'boundary', 221059.06249999997)\n",
        "(u's4', 221184.99999999994)\n",
        "(u'e4', 286949.125)\n",
        "(u'boundary', 287074.5)\n",
        "(u's5', 287200)\n",
        "(u'e5', 356377.625)\n",
        "(u'boundary', 356502.8125000001)\n",
        "(u's6', 356628.0000000001)\n",
        "(u'e6', 425840.6250000001)\n",
        "(u'boundary', 425965.8125000001)\n",
        "(u's7', 426091.0000000001)\n",
        "(u'e7', 502837.5000000001)\n",
        "(u'boundary', 502962.68750000035)\n",
        "(u's8', 503088.00000000035)\n",
        "(u'e8', 587913.6250000002)\n"
       ]
      }
     ],
     "prompt_number": 17
    },
    {
     "cell_type": "markdown",
     "metadata": {},
     "source": [
      "rawSignalData exploration"
     ]
    },
    {
     "cell_type": "code",
     "collapsed": false,
     "input": [
      "print(rawSignalData.shape)\n",
      "print(rawSignalData.dtype)\n",
      "print(epochedSignalData.shape)\n",
      "print(epochedSignalData.dtype)"
     ],
     "language": "python",
     "metadata": {},
     "outputs": [
      {
       "output_type": "stream",
       "stream": "stdout",
       "text": [
        "(307, 588038)\n",
        "float32\n",
        "(0, 307)\n",
        "float32\n"
       ]
      }
     ],
     "prompt_number": 18
    },
    {
     "cell_type": "markdown",
     "metadata": {},
     "source": [
      "Work\n",
      "-------"
     ]
    },
    {
     "cell_type": "markdown",
     "metadata": {},
     "source": [
      "Get session-level stretches"
     ]
    },
    {
     "cell_type": "code",
     "collapsed": false,
     "input": [
      "#adapted from protoReadExtractEEGlab.py\n",
      "#'epoch' here refers to the experimental sessions rather than word-level epochs\n",
      "\n",
      "triggersOfInterest = []\n",
      "for n in range(1,9):\n",
      "    triggersOfInterest += ['s'+str(n),'e'+str(n)]\n",
      "eLDS = metadata\n",
      "epochStartSec = 0\n",
      "epochEndSec = 1\n",
      "\n",
      "trialTriggers = []; # list of triggers\n",
      "trialLatencies = []; # ... and their latencies in timepoints (aka samples) to make record array of trials\n",
      "epochSliceTimepoints = []; # embedded lists containing indices for each epoch\n",
      "epochStartTimepoints = round(epochStartSec*eLDS.srate) # number of timepoints (aka samples) before trigger to include in epoch\n",
      "epochEndTimepoints = round(epochEndSec*eLDS.srate) # ... ditto after the trigger\n",
      "mystart = 0.0\n",
      "myend = 0.0\n",
      "for event in eLDS.event:        \n",
      "# how to see stucture of one trigger: [(a, eval(\"eLDS.event[0].%s\" % a)) for a in dir(eLDS.event[0]) if not a.startswith('_')]\n",
      "    if event.type in triggersOfInterest:\n",
      "        if event.type[0] == 's':\n",
      "            #start event\n",
      "            mystart = event.latency + epochStartTimepoints\n",
      "        else:\n",
      "            epochSliceTimepoints.append(range(int(round(mystart)),int(round(event.latency+epochEndTimepoints))))\n",
      "        #trialTriggers.append(event.type)\n",
      "        #trialLatencies.append(event.latency)\n",
      "        #epochSliceTimepoints.append(range(int(round(prevlatency)),int(round(event.latency))))\n",
      "\n",
      "# create record array of trial IDs and their position in samples of the recording, allows field and entry-wise referencing: trials.timepoint, trials[5], trials[5].trigger, trials.trigger[5]\n",
      "#trials = np.core.records.fromarrays([trialTriggers, trialLatencies],names='trigger,timepoint')\n",
      "#L.info('Extracted %d trials of interest, with epochs running from %-.2fs to %+.2fs relative to triggers' % (len(trials), epochStartSec, epochEndSec))\n",
      "# create epoch-based view on data, using epochs of particular type\n",
      "\n",
      "#epochedSignalData = rawSignalData[:,epochSliceTimepoints[0]]#.swapaxes(0,1) # epochs x channels x timepoints\n",
      "#print(epochSliceTimepoints[-1][-1])\n",
      "for l in epochSliceTimepoints:\n",
      "    print(len(l))\n",
      "    \n",
      "epochedSignalData = []#list(rawSignalData[:,epochSliceTimepoints[0]])\n",
      "for sitting in epochSliceTimepoints[:-1]: #range(1,len(epochSliceTimepoints)-1):\n",
      "    #epochedSignalData.append(list(rawSignalData[:,epochSliceTimepoints[sitting]]))\n",
      "    epochedSignalData.append(list(rawSignalData[:,sitting]))\n",
      "\n",
      "#the final timeslice ends after the last sample, so omit it\n",
      "epochedSignalData.append(list(rawSignalData[:,epochSliceTimepoints[-1][:-1]]))\n",
      "#epochedSignalData = rawSignalData[:,epochSliceTimepoints]#.swapaxes(0,1)\n",
      "\n",
      "print('----')\n",
      "for sit in epochedSignalData:\n",
      "    print(len(sit),len(sit[0]))\n",
      "\n",
      "#current view is session x channel x sample\n",
      "#pick a channel, say 113, then epoch just that channel for this preliminary stuff"
     ],
     "language": "python",
     "metadata": {},
     "outputs": [
      {
       "output_type": "stream",
       "stream": "stdout",
       "text": [
        "55864\n",
        "94092\n",
        "70725\n",
        "65889\n",
        "69303\n",
        "69338\n",
        "76872\n",
        "84951\n",
        "----"
       ]
      },
      {
       "output_type": "stream",
       "stream": "stdout",
       "text": [
        "\n",
        "(307, 55864)\n",
        "(307, 94092)\n",
        "(307, 70725)\n",
        "(307, 65889)\n",
        "(307, 69303)\n",
        "(307, 69338)\n",
        "(307, 76872)\n",
        "(307, 84950)\n"
       ]
      }
     ],
     "prompt_number": 19
    },
    {
     "cell_type": "code",
     "collapsed": false,
     "input": [
      "print(len(wordProps[wordProps['track']==1]))"
     ],
     "language": "python",
     "metadata": {},
     "outputs": [
      {
       "output_type": "stream",
       "stream": "stdout",
       "text": [
        "1414\n"
       ]
      }
     ],
     "prompt_number": 22
    },
    {
     "cell_type": "code",
     "collapsed": false,
     "input": [
      "prevtrack = 1\n",
      "for track in wordProps['track']:\n",
      "    if track != prevtrack:\n",
      "        #we're in a new session\n",
      "        pass\n",
      "    prevtrack = track"
     ],
     "language": "python",
     "metadata": {},
     "outputs": []
    }
   ],
   "metadata": {}
  }
 ]
}