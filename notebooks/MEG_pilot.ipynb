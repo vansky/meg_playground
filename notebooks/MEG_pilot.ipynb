{
 "metadata": {
  "name": ""
 },
 "nbformat": 3,
 "nbformat_minor": 0,
 "worksheets": [
  {
   "cells": [
    {
     "cell_type": "markdown",
     "metadata": {},
     "source": [
      "MEG Pilot\n",
      "=========\n",
      "\n",
      "The project should be in a directory with the following subdirectories:  \n",
      "\n",
      "-scripts/: importable scripts  \n",
      "-MEG_data/: MEG data and epoch alignment files  \n",
      "-notebooks/: This file and other associated ipython notebooks"
     ]
    },
    {
     "cell_type": "markdown",
     "metadata": {},
     "source": [
      "Imports\n",
      "--------"
     ]
    },
    {
     "cell_type": "code",
     "collapsed": false,
     "input": [
      "#Permit inline plotting\n",
      "%pylab inline\n",
      "\n",
      "#Do basic imports\n",
      "from __future__ import division\n",
      "import sys, os\n",
      "import scipy\n",
      "import pylab as pl\n",
      "import numpy as np\n",
      "import numpy.lib.recfunctions as recfunctions\n",
      "#from ptsa.data.bvwrapper import BVWrapper\n",
      "#from ptsa.plotting.topo import topoplot\n",
      "\n",
      "#change to the scripts directory to permit importing from there\n",
      "%cd ../scripts\n",
      "import protoReadExtractEEGlab"
     ],
     "language": "python",
     "metadata": {},
     "outputs": [
      {
       "output_type": "stream",
       "stream": "stdout",
       "text": [
        "Populating the interactive namespace from numpy and matplotlib\n",
        "/media/webley/Stacked Data/Documents/Work/meg_playground/scripts"
       ]
      },
      {
       "output_type": "stream",
       "stream": "stdout",
       "text": [
        "\n"
       ]
      }
     ],
     "prompt_number": 1
    },
    {
     "cell_type": "markdown",
     "metadata": {},
     "source": [
      "Definitions\n",
      "-----------"
     ]
    },
    {
     "cell_type": "code",
     "collapsed": false,
     "input": [
      "# Definitions\n",
      "def adjustR2(R2, numFeatures, numSamples):\n",
      "        #1/0                                                               \n",
      "        #return R2                                                         \n",
      "        return R2-(1-R2)*(float(numFeatures)/(numSamples-numFeatures-1))\n",
      "\n",
      "def mynormalise(A):\n",
      "        A = scipy.stats.zscore(A)\n",
      "        A[numpy.isnan(A)] = 0\n",
      "        return A"
     ],
     "language": "python",
     "metadata": {},
     "outputs": [],
     "prompt_number": 2
    },
    {
     "cell_type": "markdown",
     "metadata": {},
     "source": [
      "Load Data\n",
      "---------"
     ]
    },
    {
     "cell_type": "code",
     "collapsed": false,
     "input": [
      "#change to the data directory to load in the data\n",
      "%cd ../MEG_data\n",
      "\n",
      "#load MEG data\n",
      "(rawSignalData, metadata, trials, epochedSignalData, epochSliceTimepoints) = \\\n",
      "    protoReadExtractEEGlab.load('aud_hofd_a_allRuns_tsss_audiobookPrepro_stPad1_lp50_resamp125_frac10ICAed.set', [])"
     ],
     "language": "python",
     "metadata": {},
     "outputs": [
      {
       "output_type": "stream",
       "stream": "stdout",
       "text": [
        "/media/webley/Stacked Data/Documents/Work/meg_playground/MEG_data\n"
       ]
      }
     ],
     "prompt_number": 3
    },
    {
     "cell_type": "code",
     "collapsed": false,
     "input": [
      "#load alignment data\n",
      "wordPropsFile = 'hod_JoeTimes_LoadsaFeaturesV3.tab'                   \n",
      "wordProps = scipy.genfromtxt(wordPropsFile,delimiter='\\t',names=True,\\\n",
      "                             dtype=\"i4,f4,f4,S50,S50,i2,i2,i2,S10,f4,f4,f4,f4,f4,f4,f4,f4,f4,f4,f4\")\n",
      "print(wordProps.shape)"
     ],
     "language": "python",
     "metadata": {},
     "outputs": [
      {
       "output_type": "stream",
       "stream": "stdout",
       "text": [
        "(14595,)\n"
       ]
      }
     ],
     "prompt_number": 4
    },
    {
     "cell_type": "markdown",
     "metadata": {},
     "source": [
      "Play\n",
      "-------"
     ]
    },
    {
     "cell_type": "markdown",
     "metadata": {},
     "source": [
      "At this point, the following data structures are active:  \n",
      "\n",
      "    wordProps: ndarray of word-level properties\n",
      "    rawSignalData: ndarray w/ one row per channel and one column per timeslice\n",
      "    metadata: matlab.iostruct: use metadata._fieldnames to find colnames\n",
      "    trials:  empty\n",
      "    epochedSignalData:  empty\n",
      "    epochedSliceTimepoints:  empty"
     ]
    },
    {
     "cell_type": "markdown",
     "metadata": {},
     "source": [
      "wordProps exploration"
     ]
    },
    {
     "cell_type": "code",
     "collapsed": false,
     "input": [
      "print(wordProps.dtype.names)"
     ],
     "language": "python",
     "metadata": {},
     "outputs": [
      {
       "output_type": "stream",
       "stream": "stdout",
       "text": [
        "('track', 'onTime', 'offTime', 'asrToken', 'annotToken', 'sentenceSerial', 'runSerial', 'storySerial', 'stanfPOS', 'lenLett', 'lenPhonCMU', 'lenSyllCMU', 'logFreq_ANC', 'bigramLogProbBack_COCA', 'trigramLogProbBack_COCA', 'surprisal2back_COCA', 'tokenPrimed', 'tokenPosPrimed', 'bigramEntropy_COCA_previous', 'bigramEntropy_COCA_here')\n"
       ]
      }
     ],
     "prompt_number": 5
    },
    {
     "cell_type": "code",
     "collapsed": false,
     "input": [
      "print(wordProps['onTime'])\n",
      "print(mean(wordProps['onTime']))\n",
      "print(wordProps['track'])\n",
      "print(len(wordProps[wordProps['track']==5]))"
     ],
     "language": "python",
     "metadata": {},
     "outputs": [
      {
       "output_type": "stream",
       "stream": "stdout",
       "text": [
        "[  3.40000018e-02   1.05400002e+00   1.32400000e+00 ...,   6.76174011e+02\n",
        "   6.76283997e+02   6.76963989e+02]\n",
        "299.449\n",
        "[1 1 1 ..., 8 8 8]\n",
        "1781\n"
       ]
      }
     ],
     "prompt_number": 6
    },
    {
     "cell_type": "code",
     "collapsed": false,
     "input": [
      "prevt = 0.0\n",
      "timemod = 0\n",
      "\n",
      "newWordProps = np.copy(wordProps)\n",
      "\n",
      "for ti,t in enumerate(wordProps['onTime']):\n",
      "    if t < prevt:\n",
      "        #assume the final sample of a session doesn't occur after the final wordProps row\n",
      "        timemod += wordProps['offTime'][ti-1]  \n",
      "    newWordProps['onTime'][ti] += timemod\n",
      "    newWordProps['offTime'][ti] += timemod\n",
      "    prevt = t"
     ],
     "language": "python",
     "metadata": {},
     "outputs": [],
     "prompt_number": 7
    },
    {
     "cell_type": "code",
     "collapsed": false,
     "input": [
      "print(newWordProps['onTime'])\n",
      "print(mean(newWordProps['onTime']))\n",
      "print(newWordProps['track'])\n",
      "print(len(newWordProps[newWordProps['track']==5]))\n",
      "\n",
      "prevt = 1\n",
      "for ti,t in enumerate(wordProps['track']):\n",
      "    if t != prevt:\n",
      "        print newWordProps['offTime'][ti-1], newWordProps['onTime'][ti]\n",
      "    prevt = t"
     ],
     "language": "python",
     "metadata": {},
     "outputs": [
      {
       "output_type": "stream",
       "stream": "stdout",
       "text": [
        "[  3.40000018e-02   1.05400002e+00   1.32400000e+00 ...,   6.89766406e+03\n",
        "   6.89777393e+03   6.89845361e+03]\n",
        "3736.34\n",
        "[1 1 1 ..., 8 8 8]\n",
        "1781\n",
        "445.404 445.438\n",
        "2687.61 2687.65\n",
        "3251.72 3251.75\n",
        "3777.42 3777.45\n",
        "4433.91 4433.94\n",
        "5322.31 5322.34\n",
        "6221.49 6221.52\n"
       ]
      }
     ],
     "prompt_number": 8
    },
    {
     "cell_type": "markdown",
     "metadata": {},
     "source": [
      "metadata exploration"
     ]
    },
    {
     "cell_type": "code",
     "collapsed": false,
     "input": [
      "print(metadata._fieldnames)"
     ],
     "language": "python",
     "metadata": {},
     "outputs": [
      {
       "output_type": "stream",
       "stream": "stdout",
       "text": [
        "['setname', 'filename', 'filepath', 'subject', 'group', 'condition', 'session', 'comments', 'nbchan', 'trials', 'pnts', 'srate', 'xmin', 'xmax', 'times', 'data', 'icaact', 'icawinv', 'icasphere', 'icaweights', 'icachansind', 'chanlocs', 'urchanlocs', 'chaninfo', 'ref', 'event', 'urevent', 'eventdescription', 'epoch', 'epochdescription', 'reject', 'stats', 'specdata', 'specicaact', 'splinefile', 'icasplinefile', 'dipfit', 'history', 'saved', 'etc', 'datfile']\n"
       ]
      }
     ],
     "prompt_number": 9
    },
    {
     "cell_type": "code",
     "collapsed": false,
     "input": [
      "print(metadata.chanlocs[0]._fieldnames)\n",
      "print(metadata.chanlocs[0].labels)\n",
      "print(rawSignalData.shape[1])"
     ],
     "language": "python",
     "metadata": {},
     "outputs": [
      {
       "output_type": "stream",
       "stream": "stdout",
       "text": [
        "['labels', 'ref', 'theta', 'radius', 'X', 'Y', 'Z', 'sph_theta', 'sph_phi', 'sph_radius', 'type', 'urchan']\n",
        "MEG0113\n",
        "588038\n"
       ]
      }
     ],
     "prompt_number": 10
    },
    {
     "cell_type": "code",
     "collapsed": false,
     "input": [
      "print(metadata.pnts)\n",
      "print(metadata.times)\n",
      "print(metadata.srate)\n",
      "print(metadata.times/1000)\n",
      "print(mean(metadata.times)/1000)"
     ],
     "language": "python",
     "metadata": {},
     "outputs": [
      {
       "output_type": "stream",
       "stream": "stdout",
       "text": [
        "588038\n",
        "[ -0.00000000e+00   8.00000000e+00   1.60000000e+01 ...,   4.70428000e+06\n",
        "   4.70428800e+06   4.70429600e+06]\n",
        "125\n",
        "[ -0.00000000e+00   8.00000000e-03   1.60000000e-02 ...,   4.70428000e+03\n",
        "   4.70428800e+03   4.70429600e+03]\n",
        "2352.148\n"
       ]
      }
     ],
     "prompt_number": 11
    },
    {
     "cell_type": "code",
     "collapsed": false,
     "input": [
      "print(metadata.setname)\n",
      "print(metadata.subject)\n",
      "print(metadata.group)\n",
      "print(metadata.condition)\n",
      "#print(metadata.session)\n",
      "#print(metadata.comments)\n",
      "#print(metadata.nbchan)\n",
      "print(metadata.trials)\n",
      "print(metadata.xmin)\n",
      "print(metadata.xmax)\n",
      "print(metadata.data)\n",
      "print(metadata.urevent[0]._fieldnames)\n",
      "print(metadata.specdata)"
     ],
     "language": "python",
     "metadata": {},
     "outputs": [
      {
       "output_type": "stream",
       "stream": "stdout",
       "text": [
        "aud_hofd_a_(all runs)_tsss.fif w/ events, locations, scaled, audio markers, stand. padding 2sec resampled, LP@50Hz, resamp125, ica on 10th fraction sample\n",
        "[]\n",
        "[]\n",
        "[]\n",
        "1\n",
        "-0.0\n",
        "4704.296\n",
        "aud_hofd_a_allRuns_tsss_audiobookPrepro_stPad1_lp50_resamp125_frac10ICAed.fdt\n",
        "['type', 'value', 'latency', 'duration']\n",
        "[]\n"
       ]
      }
     ],
     "prompt_number": 12
    },
    {
     "cell_type": "markdown",
     "metadata": {},
     "source": [
      "rawSignalData exploration"
     ]
    },
    {
     "cell_type": "code",
     "collapsed": false,
     "input": [
      "print(rawSignalData.shape)\n",
      "print(rawSignalData.dtype)"
     ],
     "language": "python",
     "metadata": {},
     "outputs": [
      {
       "output_type": "stream",
       "stream": "stdout",
       "text": [
        "(307, 588038)\n",
        "float32\n"
       ]
      }
     ],
     "prompt_number": 13
    },
    {
     "cell_type": "markdown",
     "metadata": {},
     "source": [
      "Work\n",
      "-------"
     ]
    },
    {
     "cell_type": "code",
     "collapsed": false,
     "input": [
      "numchans = len(metadata.chanlocs)\n",
      "labels = np.zeros(numchans,dtype='string')\n",
      "for i, elem in enumerate(metadata.chanlocs):\n",
      "    labels[i] = metadata.chanlocs[i].labels\n",
      "time = np.array(np.arange(rawSignalData.shape[1]))"
     ],
     "language": "python",
     "metadata": {},
     "outputs": [],
     "prompt_number": 26
    },
    {
     "cell_type": "code",
     "collapsed": false,
     "input": [
      "#channel_info = recfunctions.merge_arrays([labels,rawSignalData],\n",
      "#                                        flatten = True)"
     ],
     "language": "python",
     "metadata": {},
     "outputs": [],
     "prompt_number": "*"
    },
    {
     "cell_type": "code",
     "collapsed": false,
     "input": [
      "#def convert_coords(inarray,headrad=85):\n",
      "#    outarray  = []\n",
      "#    for ctr,(ix,iy,iz) in enumerate(inarray):\n",
      "#        outarray.append(np.array([rad2deg(math.atan(ix/iy)),rad2deg(math.acos(iz/headrad))]))\n",
      "#    return(np.array(outarray))"
     ],
     "language": "python",
     "metadata": {},
     "outputs": [],
     "prompt_number": "*"
    },
    {
     "cell_type": "code",
     "collapsed": false,
     "input": [
      "#metadata.chanlocs[:].sph_phi\n",
      "#print([pl.deg2rad(e.sph_phi) for e in metadata.chanlocs])\n",
      "#print([pl.deg2rad(e.sph_theta/np.pi) for e in metadata.chanlocs])\n",
      "#sensors = (np.asarray([pl.deg2rad(e.sph_phi) for e in metadata.chanlocs]),\\\n",
      "#           np.asarray([pl.deg2rad(e.sph_theta/np.pi) for e in metadata.chanlocs]))\n",
      "\n",
      "\n",
      "numchans = len(metadata.chanlocs)\n",
      "sensors = (np.zeros(numchans),np.zeros(numchans))\n",
      "print(sensors[0].shape)\n",
      "for i,elem in enumerate(metadata.chanlocs):\n",
      "  sensors[0][i] = elem.sph_phi\n",
      "  sensors[1][i] = elem.sph_radius#deg2rad(el.sph_theta)/np.pi\n",
      "print(sensors[0].shape)"
     ],
     "language": "python",
     "metadata": {},
     "outputs": [
      {
       "ename": "ValueError",
       "evalue": "setting an array element with a sequence.",
       "output_type": "pyerr",
       "traceback": [
        "\u001b[0;31m---------------------------------------------------------------------------\u001b[0m\n\u001b[0;31mValueError\u001b[0m                                Traceback (most recent call last)",
        "\u001b[0;32m<ipython-input-6-5d286111e145>\u001b[0m in \u001b[0;36m<module>\u001b[0;34m()\u001b[0m\n\u001b[1;32m      8\u001b[0m \u001b[0;32mprint\u001b[0m\u001b[0;34m(\u001b[0m\u001b[0msensors\u001b[0m\u001b[0;34m[\u001b[0m\u001b[0;36m0\u001b[0m\u001b[0;34m]\u001b[0m\u001b[0;34m.\u001b[0m\u001b[0mshape\u001b[0m\u001b[0;34m)\u001b[0m\u001b[0;34m\u001b[0m\u001b[0m\n\u001b[1;32m      9\u001b[0m \u001b[0;32mfor\u001b[0m \u001b[0mi\u001b[0m\u001b[0;34m,\u001b[0m\u001b[0melem\u001b[0m \u001b[0;32min\u001b[0m \u001b[0menumerate\u001b[0m\u001b[0;34m(\u001b[0m\u001b[0mmetadata\u001b[0m\u001b[0;34m.\u001b[0m\u001b[0mchanlocs\u001b[0m\u001b[0;34m)\u001b[0m\u001b[0;34m:\u001b[0m\u001b[0;34m\u001b[0m\u001b[0m\n\u001b[0;32m---> 10\u001b[0;31m   \u001b[0msensors\u001b[0m\u001b[0;34m[\u001b[0m\u001b[0;36m0\u001b[0m\u001b[0;34m]\u001b[0m\u001b[0;34m[\u001b[0m\u001b[0mi\u001b[0m\u001b[0;34m]\u001b[0m \u001b[0;34m=\u001b[0m \u001b[0melem\u001b[0m\u001b[0;34m.\u001b[0m\u001b[0msph_phi\u001b[0m\u001b[0;34m\u001b[0m\u001b[0m\n\u001b[0m\u001b[1;32m     11\u001b[0m   \u001b[0msensors\u001b[0m\u001b[0;34m[\u001b[0m\u001b[0;36m1\u001b[0m\u001b[0;34m]\u001b[0m\u001b[0;34m[\u001b[0m\u001b[0mi\u001b[0m\u001b[0;34m]\u001b[0m \u001b[0;34m=\u001b[0m \u001b[0melem\u001b[0m\u001b[0;34m.\u001b[0m\u001b[0msph_radius\u001b[0m\u001b[0;31m#deg2rad(el.sph_theta)/np.pi\u001b[0m\u001b[0;34m\u001b[0m\u001b[0m\n\u001b[1;32m     12\u001b[0m \u001b[0;32mprint\u001b[0m\u001b[0;34m(\u001b[0m\u001b[0msensors\u001b[0m\u001b[0;34m[\u001b[0m\u001b[0;36m0\u001b[0m\u001b[0;34m]\u001b[0m\u001b[0;34m.\u001b[0m\u001b[0mshape\u001b[0m\u001b[0;34m)\u001b[0m\u001b[0;34m\u001b[0m\u001b[0m\n",
        "\u001b[0;31mValueError\u001b[0m: setting an array element with a sequence."
       ]
      },
      {
       "output_type": "stream",
       "stream": "stdout",
       "text": [
        "(307,)\n"
       ]
      }
     ],
     "prompt_number": 6
    },
    {
     "cell_type": "code",
     "collapsed": false,
     "input": [
      "# Get the sensor names\n",
      "\n",
      "#print('num sensor labels',len(metadata.chaninfo.fiffheader.grad.label))\n",
      "\n",
      "#sensors_raw = convert_coords(metadata.chaninfo.fiffheader.grad.chanpos)\n",
      "#print(len(sensors_raw[:,0]))\n",
      "\n",
      "\n",
      "#sensors = (np.array(sensors_raw[:,0]),np.array(pl.deg2rad(sensors_raw[:,1]/np.pi)))"
     ],
     "language": "python",
     "metadata": {},
     "outputs": []
    },
    {
     "cell_type": "code",
     "collapsed": false,
     "input": [
      "figure(figsize=(10,10))\n",
      "           \n",
      "topoplot(labels=metadata.chanlocs[0].labels, label_props={'fontsize':'large'},\n",
      "         sensors=sensors,sensor_props={'s':0})\n"
     ],
     "language": "python",
     "metadata": {},
     "outputs": []
    },
    {
     "cell_type": "code",
     "collapsed": false,
     "input": [
      "chans = np.where(np.in1d(metadata.chaninfo.fiffheader.grad.label,['MEG1532','MEG1632']))[0]\n",
      "print(chans)\n",
      "print(rawSignalData[chans[0]])\n",
      "ref = mean(np.array((rawSignalData[chans[0]],rawSignalData[chans[1]])),axis=0)\n",
      "print(ref.shape)\n",
      "plot(ref[240000:250000])"
     ],
     "language": "python",
     "metadata": {},
     "outputs": [
      {
       "output_type": "stream",
       "stream": "stdout",
       "text": [
        "[169 180]\n",
        "[  5.15605874e-12   3.85148077e-12   1.77365577e-12 ...,   7.79831495e-12\n",
        "   1.29587695e-11   1.30389588e-11]\n",
        "(588038,)"
       ]
      },
      {
       "output_type": "stream",
       "stream": "stdout",
       "text": [
        "\n"
       ]
      },
      {
       "metadata": {},
       "output_type": "pyout",
       "prompt_number": 118,
       "text": [
        "[<matplotlib.lines.Line2D at 0x7f968e702990>]"
       ]
      },
      {
       "metadata": {},
       "output_type": "display_data",
       "png": "[encoded data removed]",
       "text": [
        "<matplotlib.figure.Figure at 0x7f9690090bd0>"
       ]
      }
     ],
     "prompt_number": 118
    },
    {
     "cell_type": "code",
     "collapsed": false,
     "input": [
      "#for some reason, there is an extra unnamed channel in the raw data...\n",
      "#we'll throw out the first channel for now, but we need to  figure out why that happened\n",
      "print(metadata.chaninfo.fiffheader.grad.label.reshape((306,1)).dtype)\n",
      "print(rawSignalData[1:].dtype)\n",
      "\n",
      "bv = recfunctions.merge_arrays(metadata.chaninfo.fiffheader.grad.label.reshape((306,1)),\\\n",
      "                               rawSignalData[1:], \\\n",
      "                               flatten=True)\n",
      "#bv = np.rec.fromarrays([metadata.chaninfo.fiffheader.grad.label.reshape((306,1)), rawSignalData[1:]],\\\n",
      "#                       names=('names','channels'))\n",
      "                       #dtype=[ ('names',np.dtype(('U', 10))), ('channels','f32')])\n"
     ],
     "language": "python",
     "metadata": {},
     "outputs": [
      {
       "ename": "ValueError",
       "evalue": "cannot create object arrays from iterator",
       "output_type": "pyerr",
       "traceback": [
        "\u001b[0;31m---------------------------------------------------------------------------\u001b[0m\n\u001b[0;31mValueError\u001b[0m                                Traceback (most recent call last)",
        "\u001b[0;32m<ipython-input-155-aea4ce5881ef>\u001b[0m in \u001b[0;36m<module>\u001b[0;34m()\u001b[0m\n\u001b[1;32m      4\u001b[0m \u001b[0;32mprint\u001b[0m\u001b[0;34m(\u001b[0m\u001b[0mrawSignalData\u001b[0m\u001b[0;34m[\u001b[0m\u001b[0;36m1\u001b[0m\u001b[0;34m:\u001b[0m\u001b[0;34m]\u001b[0m\u001b[0;34m.\u001b[0m\u001b[0mdtype\u001b[0m\u001b[0;34m)\u001b[0m\u001b[0;34m\u001b[0m\u001b[0m\n\u001b[1;32m      5\u001b[0m \u001b[0;34m\u001b[0m\u001b[0m\n\u001b[0;32m----> 6\u001b[0;31m \u001b[0mbv\u001b[0m \u001b[0;34m=\u001b[0m \u001b[0mrecfunctions\u001b[0m\u001b[0;34m.\u001b[0m\u001b[0mmerge_arrays\u001b[0m\u001b[0;34m(\u001b[0m\u001b[0mmetadata\u001b[0m\u001b[0;34m.\u001b[0m\u001b[0mchaninfo\u001b[0m\u001b[0;34m.\u001b[0m\u001b[0mfiffheader\u001b[0m\u001b[0;34m.\u001b[0m\u001b[0mgrad\u001b[0m\u001b[0;34m.\u001b[0m\u001b[0mlabel\u001b[0m\u001b[0;34m.\u001b[0m\u001b[0mreshape\u001b[0m\u001b[0;34m(\u001b[0m\u001b[0;34m(\u001b[0m\u001b[0;36m306\u001b[0m\u001b[0;34m,\u001b[0m\u001b[0;36m1\u001b[0m\u001b[0;34m)\u001b[0m\u001b[0;34m)\u001b[0m\u001b[0;34m,\u001b[0m                               \u001b[0mrawSignalData\u001b[0m\u001b[0;34m[\u001b[0m\u001b[0;36m1\u001b[0m\u001b[0;34m:\u001b[0m\u001b[0;34m]\u001b[0m\u001b[0;34m,\u001b[0m                                \u001b[0mflatten\u001b[0m\u001b[0;34m=\u001b[0m\u001b[0mTrue\u001b[0m\u001b[0;34m)\u001b[0m\u001b[0;34m\u001b[0m\u001b[0m\n\u001b[0m\u001b[1;32m      7\u001b[0m \u001b[0;31m#bv = np.rec.fromarrays([metadata.chaninfo.fiffheader.grad.label.reshape((306,1)), rawSignalData[1:]],\\\u001b[0m\u001b[0;34m\u001b[0m\u001b[0;34m\u001b[0m\u001b[0m\n\u001b[1;32m      8\u001b[0m \u001b[0;31m#                       names=('names','channels'))\u001b[0m\u001b[0;34m\u001b[0m\u001b[0;34m\u001b[0m\u001b[0m\n",
        "\u001b[0;32m/usr/lib/python2.7/dist-packages/numpy/lib/recfunctions.pyc\u001b[0m in \u001b[0;36mmerge_arrays\u001b[0;34m(seqarrays, fill_value, flatten, usemask, asrecarray)\u001b[0m\n\u001b[1;32m    460\u001b[0m             \u001b[0mseqdata\u001b[0m\u001b[0;34m.\u001b[0m\u001b[0mappend\u001b[0m\u001b[0;34m(\u001b[0m\u001b[0mitertools\u001b[0m\u001b[0;34m.\u001b[0m\u001b[0mchain\u001b[0m\u001b[0;34m(\u001b[0m\u001b[0mdata\u001b[0m\u001b[0;34m,\u001b[0m \u001b[0;34m[\u001b[0m\u001b[0mfval\u001b[0m\u001b[0;34m]\u001b[0m \u001b[0;34m*\u001b[0m \u001b[0mnbmissing\u001b[0m\u001b[0;34m)\u001b[0m\u001b[0;34m)\u001b[0m\u001b[0;34m\u001b[0m\u001b[0m\n\u001b[1;32m    461\u001b[0m         output = np.fromiter(tuple(izip_records(seqdata, flatten=flatten)),\n\u001b[0;32m--> 462\u001b[0;31m                              dtype=newdtype, count=maxlength)\n\u001b[0m\u001b[1;32m    463\u001b[0m         \u001b[0;32mif\u001b[0m \u001b[0masrecarray\u001b[0m\u001b[0;34m:\u001b[0m\u001b[0;34m\u001b[0m\u001b[0m\n\u001b[1;32m    464\u001b[0m             \u001b[0moutput\u001b[0m \u001b[0;34m=\u001b[0m \u001b[0moutput\u001b[0m\u001b[0;34m.\u001b[0m\u001b[0mview\u001b[0m\u001b[0;34m(\u001b[0m\u001b[0mrecarray\u001b[0m\u001b[0;34m)\u001b[0m\u001b[0;34m\u001b[0m\u001b[0m\n",
        "\u001b[0;31mValueError\u001b[0m: cannot create object arrays from iterator"
       ]
      },
      {
       "output_type": "stream",
       "stream": "stdout",
       "text": [
        "object\n",
        "float32\n"
       ]
      }
     ],
     "prompt_number": 155
    },
    {
     "cell_type": "code",
     "collapsed": false,
     "input": [
      "# loop over channels, processing each one, creating a data TimeSeries object\n",
      "data = None\n",
      "nchan = 31\n",
      "for c in range(nchan): #bv.nchannels):\n",
      "    sys.stdout.write('%d '%c)\n",
      "    sys.stdout.flush()\n",
      "    # load the channel\n",
      "    d = bv.get_all_data(channels=[c]).astype(np.float32)\n",
      "    \n",
      "    # reref it\n",
      "    d -= ref\n",
      "    \n",
      "    # filter and downsample\n",
      "    d = d.filtered(.25,'high').resampled(250., pad_to_pow2=True)\n",
      "    \n",
      "    # append to data\n",
      "    if data is None:\n",
      "        data = d\n",
      "    else:\n",
      "        data = data.extend(d, axis='channels')\n",
      "    \n",
      "print data.shape"
     ],
     "language": "python",
     "metadata": {},
     "outputs": [
      {
       "ename": "SyntaxError",
       "evalue": "unexpected EOF while parsing (<ipython-input-112-74ce0f2ef89c>, line 1)",
       "output_type": "pyerr",
       "traceback": [
        "\u001b[0;36m  File \u001b[0;32m\"<ipython-input-112-74ce0f2ef89c>\"\u001b[0;36m, line \u001b[0;32m1\u001b[0m\n\u001b[0;31m    print(c\u001b[0m\n\u001b[0m           ^\u001b[0m\n\u001b[0;31mSyntaxError\u001b[0m\u001b[0;31m:\u001b[0m unexpected EOF while parsing\n"
       ]
      }
     ],
     "prompt_number": 112
    }
   ],
   "metadata": {}
  }
 ]
}